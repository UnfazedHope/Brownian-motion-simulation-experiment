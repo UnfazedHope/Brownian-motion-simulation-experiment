{
  "metadata": {
    "language_info": {
      "codemirror_mode": {
        "name": "python",
        "version": 3
      },
      "file_extension": ".py",
      "mimetype": "text/x-python",
      "name": "python",
      "nbconvert_exporter": "python",
      "pygments_lexer": "ipython3",
      "version": "3.8"
    },
    "kernelspec": {
      "name": "python",
      "display_name": "Python (Pyodide)",
      "language": "python"
    }
  },
  "nbformat_minor": 4,
  "nbformat": 4,
  "cells": [
    {
      "cell_type": "code",
      "source": "import random\n\ndef simulate_particle_motion(steps, runs):\n    origin_crosses = []\n\n    for _ in range(runs):\n        position = 0\n        crosses = 0\n\n        for _ in range(steps):\n            move = random.choice([-1, 1])\n            position += move\n\n            if position == 0:\n                crosses += 1\n\n        origin_crosses.append(crosses)\n\n    average_crosses = sum(origin_crosses) / runs\n    return average_crosses\n\n# Simulating the process for different values of t\nt_values = [4 * 10**4, 9 * 10**4, 16 * 10**4]\nruns = 50\n\n# Calculate average number of times the particle crosses the origin for each t\naverage_crosses_results = {t: simulate_particle_motion(t, runs) for t in t_values}\naverage_crosses_results",
      "metadata": {
        "trusted": true
      },
      "execution_count": 1,
      "outputs": [
        {
          "execution_count": 1,
          "output_type": "execute_result",
          "data": {
            "text/plain": "{40000: 134.18, 90000: 217.46, 160000: 323.86}"
          },
          "metadata": {}
        }
      ]
    },
    {
      "cell_type": "code",
      "source": "",
      "metadata": {},
      "execution_count": null,
      "outputs": []
    }
  ]
}